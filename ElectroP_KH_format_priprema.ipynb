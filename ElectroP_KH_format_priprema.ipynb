{
 "cells": [
  {
   "cell_type": "markdown",
   "metadata": {},
   "source": [
    "# Priprema podataka u KH formatu\n",
    "### Podaci kopirani sa MAID stranice u kombinaciji I=+,-,0\n",
    "https://maid.kph.uni-mainz.de/maid2007/mult.html"
   ]
  },
  {
   "cell_type": "code",
   "execution_count": 166,
   "metadata": {},
   "outputs": [],
   "source": [
    "import pandas as pd\n",
    "import numpy as np"
   ]
  },
  {
   "cell_type": "code",
   "execution_count": 167,
   "metadata": {},
   "outputs": [
    {
     "name": "stdout",
     "output_type": "stream",
     "text": [
      "/home/rifat/Dropbox/ElectroP/podaci/Q2=1_Iso\n"
     ]
    }
   ],
   "source": [
    "cd Q2=1_Iso"
   ]
  },
  {
   "cell_type": "code",
   "execution_count": 168,
   "metadata": {},
   "outputs": [],
   "source": [
    "E0p = pd.read_csv('E0+.dat', sep=r'\\s+') #ucitavam samo E0+ radi zaglavlja"
   ]
  },
  {
   "cell_type": "code",
   "execution_count": 169,
   "metadata": {},
   "outputs": [
    {
     "data": {
      "text/html": [
       "<div>\n",
       "<style scoped>\n",
       "    .dataframe tbody tr th:only-of-type {\n",
       "        vertical-align: middle;\n",
       "    }\n",
       "\n",
       "    .dataframe tbody tr th {\n",
       "        vertical-align: top;\n",
       "    }\n",
       "\n",
       "    .dataframe thead th {\n",
       "        text-align: right;\n",
       "    }\n",
       "</style>\n",
       "<table border=\"1\" class=\"dataframe\">\n",
       "  <thead>\n",
       "    <tr style=\"text-align: right;\">\n",
       "      <th></th>\n",
       "      <th>W(MeV)</th>\n",
       "      <th>Re(0)</th>\n",
       "      <th>Im(0)</th>\n",
       "      <th>Re(+)</th>\n",
       "      <th>Im(+)</th>\n",
       "      <th>Re(-)</th>\n",
       "      <th>Im(-)</th>\n",
       "      <th>wlab(MeV)</th>\n",
       "      <th>wcm(MeV)</th>\n",
       "    </tr>\n",
       "  </thead>\n",
       "  <tbody>\n",
       "    <tr>\n",
       "      <th>0</th>\n",
       "      <td>1080.0</td>\n",
       "      <td>0.0</td>\n",
       "      <td>0.0</td>\n",
       "      <td>0.0</td>\n",
       "      <td>0.0</td>\n",
       "      <td>0.0</td>\n",
       "      <td>0.0</td>\n",
       "      <td>0.0</td>\n",
       "      <td>0.0</td>\n",
       "    </tr>\n",
       "    <tr>\n",
       "      <th>1</th>\n",
       "      <td>1085.0</td>\n",
       "      <td>0.0</td>\n",
       "      <td>0.0</td>\n",
       "      <td>0.0</td>\n",
       "      <td>0.0</td>\n",
       "      <td>0.0</td>\n",
       "      <td>0.0</td>\n",
       "      <td>0.0</td>\n",
       "      <td>0.0</td>\n",
       "    </tr>\n",
       "    <tr>\n",
       "      <th>2</th>\n",
       "      <td>1090.0</td>\n",
       "      <td>0.0</td>\n",
       "      <td>0.0</td>\n",
       "      <td>0.0</td>\n",
       "      <td>0.0</td>\n",
       "      <td>0.0</td>\n",
       "      <td>0.0</td>\n",
       "      <td>0.0</td>\n",
       "      <td>0.0</td>\n",
       "    </tr>\n",
       "    <tr>\n",
       "      <th>3</th>\n",
       "      <td>1095.0</td>\n",
       "      <td>0.0</td>\n",
       "      <td>0.0</td>\n",
       "      <td>0.0</td>\n",
       "      <td>0.0</td>\n",
       "      <td>0.0</td>\n",
       "      <td>0.0</td>\n",
       "      <td>0.0</td>\n",
       "      <td>0.0</td>\n",
       "    </tr>\n",
       "    <tr>\n",
       "      <th>4</th>\n",
       "      <td>1100.0</td>\n",
       "      <td>0.0</td>\n",
       "      <td>0.0</td>\n",
       "      <td>0.0</td>\n",
       "      <td>0.0</td>\n",
       "      <td>0.0</td>\n",
       "      <td>0.0</td>\n",
       "      <td>0.0</td>\n",
       "      <td>0.0</td>\n",
       "    </tr>\n",
       "  </tbody>\n",
       "</table>\n",
       "</div>"
      ],
      "text/plain": [
       "   W(MeV)  Re(0)  Im(0)  Re(+)  Im(+)  Re(-)  Im(-)  wlab(MeV)  wcm(MeV)\n",
       "0  1080.0    0.0    0.0    0.0    0.0    0.0    0.0        0.0       0.0\n",
       "1  1085.0    0.0    0.0    0.0    0.0    0.0    0.0        0.0       0.0\n",
       "2  1090.0    0.0    0.0    0.0    0.0    0.0    0.0        0.0       0.0\n",
       "3  1095.0    0.0    0.0    0.0    0.0    0.0    0.0        0.0       0.0\n",
       "4  1100.0    0.0    0.0    0.0    0.0    0.0    0.0        0.0       0.0"
      ]
     },
     "execution_count": 169,
     "metadata": {},
     "output_type": "execute_result"
    }
   ],
   "source": [
    "# generate null multipoles: E0-, M0+, M0-,S0-, E1-\n",
    "empty = np.zeros(shape=E0p.shape)\n",
    "df_zeros = pd.DataFrame(empty, columns=E0p.columns)\n",
    "df_zeros['W(MeV)'] = E0p['W(MeV)']\n",
    "df_zeros.to_csv('E0-.dat', sep='\\t')\n",
    "df_zeros.to_csv('M0+.dat', sep='\\t')\n",
    "df_zeros.to_csv('M0-.dat', sep='\\t')\n",
    "df_zeros.to_csv('S0-.dat', sep='\\t')\n",
    "df_zeros.to_csv('E1-.dat', sep='\\t')\n",
    "df_zeros.head()\n"
   ]
  },
  {
   "cell_type": "code",
   "execution_count": 170,
   "metadata": {},
   "outputs": [
    {
     "data": {
      "text/html": [
       "<div>\n",
       "<style scoped>\n",
       "    .dataframe tbody tr th:only-of-type {\n",
       "        vertical-align: middle;\n",
       "    }\n",
       "\n",
       "    .dataframe tbody tr th {\n",
       "        vertical-align: top;\n",
       "    }\n",
       "\n",
       "    .dataframe thead th {\n",
       "        text-align: right;\n",
       "    }\n",
       "</style>\n",
       "<table border=\"1\" class=\"dataframe\">\n",
       "  <thead>\n",
       "    <tr style=\"text-align: right;\">\n",
       "      <th></th>\n",
       "      <th>W(MeV)</th>\n",
       "      <th>Re(0)</th>\n",
       "      <th>Im(0)</th>\n",
       "      <th>Re(+)</th>\n",
       "      <th>Im(+)</th>\n",
       "      <th>Re(-)</th>\n",
       "      <th>Im(-)</th>\n",
       "      <th>wlab(MeV)</th>\n",
       "      <th>wcm(MeV)</th>\n",
       "      <th>MP</th>\n",
       "      <th>L</th>\n",
       "    </tr>\n",
       "  </thead>\n",
       "  <tbody>\n",
       "    <tr>\n",
       "      <th>0</th>\n",
       "      <td>1080.0</td>\n",
       "      <td>0.776</td>\n",
       "      <td>0.015</td>\n",
       "      <td>3.588</td>\n",
       "      <td>0.039</td>\n",
       "      <td>2.003</td>\n",
       "      <td>0.056</td>\n",
       "      <td>685.3</td>\n",
       "      <td>-330.5</td>\n",
       "      <td>E0+</td>\n",
       "      <td>0</td>\n",
       "    </tr>\n",
       "    <tr>\n",
       "      <th>1</th>\n",
       "      <td>1085.0</td>\n",
       "      <td>0.774</td>\n",
       "      <td>0.038</td>\n",
       "      <td>3.512</td>\n",
       "      <td>0.097</td>\n",
       "      <td>2.025</td>\n",
       "      <td>0.137</td>\n",
       "      <td>691.1</td>\n",
       "      <td>-324.0</td>\n",
       "      <td>E0+</td>\n",
       "      <td>0</td>\n",
       "    </tr>\n",
       "    <tr>\n",
       "      <th>2</th>\n",
       "      <td>1090.0</td>\n",
       "      <td>0.772</td>\n",
       "      <td>0.052</td>\n",
       "      <td>3.439</td>\n",
       "      <td>0.134</td>\n",
       "      <td>2.046</td>\n",
       "      <td>0.185</td>\n",
       "      <td>696.9</td>\n",
       "      <td>-317.5</td>\n",
       "      <td>E0+</td>\n",
       "      <td>0</td>\n",
       "    </tr>\n",
       "    <tr>\n",
       "      <th>3</th>\n",
       "      <td>1095.0</td>\n",
       "      <td>0.770</td>\n",
       "      <td>0.062</td>\n",
       "      <td>3.368</td>\n",
       "      <td>0.162</td>\n",
       "      <td>2.065</td>\n",
       "      <td>0.222</td>\n",
       "      <td>702.7</td>\n",
       "      <td>-311.1</td>\n",
       "      <td>E0+</td>\n",
       "      <td>0</td>\n",
       "    </tr>\n",
       "    <tr>\n",
       "      <th>4</th>\n",
       "      <td>1100.0</td>\n",
       "      <td>0.769</td>\n",
       "      <td>0.068</td>\n",
       "      <td>3.302</td>\n",
       "      <td>0.176</td>\n",
       "      <td>2.084</td>\n",
       "      <td>0.241</td>\n",
       "      <td>708.6</td>\n",
       "      <td>-304.7</td>\n",
       "      <td>E0+</td>\n",
       "      <td>0</td>\n",
       "    </tr>\n",
       "    <tr>\n",
       "      <th>...</th>\n",
       "      <td>...</td>\n",
       "      <td>...</td>\n",
       "      <td>...</td>\n",
       "      <td>...</td>\n",
       "      <td>...</td>\n",
       "      <td>...</td>\n",
       "      <td>...</td>\n",
       "      <td>...</td>\n",
       "      <td>...</td>\n",
       "      <td>...</td>\n",
       "      <td>...</td>\n",
       "    </tr>\n",
       "    <tr>\n",
       "      <th>95</th>\n",
       "      <td>1555.0</td>\n",
       "      <td>0.000</td>\n",
       "      <td>0.000</td>\n",
       "      <td>0.000</td>\n",
       "      <td>0.000</td>\n",
       "      <td>0.000</td>\n",
       "      <td>0.000</td>\n",
       "      <td>0.0</td>\n",
       "      <td>0.0</td>\n",
       "      <td>E0-</td>\n",
       "      <td>0</td>\n",
       "    </tr>\n",
       "    <tr>\n",
       "      <th>96</th>\n",
       "      <td>1560.0</td>\n",
       "      <td>0.000</td>\n",
       "      <td>0.000</td>\n",
       "      <td>0.000</td>\n",
       "      <td>0.000</td>\n",
       "      <td>0.000</td>\n",
       "      <td>0.000</td>\n",
       "      <td>0.0</td>\n",
       "      <td>0.0</td>\n",
       "      <td>E0-</td>\n",
       "      <td>0</td>\n",
       "    </tr>\n",
       "    <tr>\n",
       "      <th>97</th>\n",
       "      <td>1565.0</td>\n",
       "      <td>0.000</td>\n",
       "      <td>0.000</td>\n",
       "      <td>0.000</td>\n",
       "      <td>0.000</td>\n",
       "      <td>0.000</td>\n",
       "      <td>0.000</td>\n",
       "      <td>0.0</td>\n",
       "      <td>0.0</td>\n",
       "      <td>E0-</td>\n",
       "      <td>0</td>\n",
       "    </tr>\n",
       "    <tr>\n",
       "      <th>98</th>\n",
       "      <td>1570.0</td>\n",
       "      <td>0.000</td>\n",
       "      <td>0.000</td>\n",
       "      <td>0.000</td>\n",
       "      <td>0.000</td>\n",
       "      <td>0.000</td>\n",
       "      <td>0.000</td>\n",
       "      <td>0.0</td>\n",
       "      <td>0.0</td>\n",
       "      <td>E0-</td>\n",
       "      <td>0</td>\n",
       "    </tr>\n",
       "    <tr>\n",
       "      <th>99</th>\n",
       "      <td>1575.0</td>\n",
       "      <td>0.000</td>\n",
       "      <td>0.000</td>\n",
       "      <td>0.000</td>\n",
       "      <td>0.000</td>\n",
       "      <td>0.000</td>\n",
       "      <td>0.000</td>\n",
       "      <td>0.0</td>\n",
       "      <td>0.0</td>\n",
       "      <td>E0-</td>\n",
       "      <td>0</td>\n",
       "    </tr>\n",
       "  </tbody>\n",
       "</table>\n",
       "<p>200 rows × 11 columns</p>\n",
       "</div>"
      ],
      "text/plain": [
       "    W(MeV)  Re(0)  Im(0)  Re(+)  Im(+)  Re(-)  Im(-)  wlab(MeV)  wcm(MeV)  \\\n",
       "0   1080.0  0.776  0.015  3.588  0.039  2.003  0.056      685.3    -330.5   \n",
       "1   1085.0  0.774  0.038  3.512  0.097  2.025  0.137      691.1    -324.0   \n",
       "2   1090.0  0.772  0.052  3.439  0.134  2.046  0.185      696.9    -317.5   \n",
       "3   1095.0  0.770  0.062  3.368  0.162  2.065  0.222      702.7    -311.1   \n",
       "4   1100.0  0.769  0.068  3.302  0.176  2.084  0.241      708.6    -304.7   \n",
       "..     ...    ...    ...    ...    ...    ...    ...        ...       ...   \n",
       "95  1555.0  0.000  0.000  0.000  0.000  0.000  0.000        0.0       0.0   \n",
       "96  1560.0  0.000  0.000  0.000  0.000  0.000  0.000        0.0       0.0   \n",
       "97  1565.0  0.000  0.000  0.000  0.000  0.000  0.000        0.0       0.0   \n",
       "98  1570.0  0.000  0.000  0.000  0.000  0.000  0.000        0.0       0.0   \n",
       "99  1575.0  0.000  0.000  0.000  0.000  0.000  0.000        0.0       0.0   \n",
       "\n",
       "     MP  L  \n",
       "0   E0+  0  \n",
       "1   E0+  0  \n",
       "2   E0+  0  \n",
       "3   E0+  0  \n",
       "4   E0+  0  \n",
       "..  ... ..  \n",
       "95  E0-  0  \n",
       "96  E0-  0  \n",
       "97  E0-  0  \n",
       "98  E0-  0  \n",
       "99  E0-  0  \n",
       "\n",
       "[200 rows x 11 columns]"
      ]
     },
     "execution_count": 170,
     "metadata": {},
     "output_type": "execute_result"
    }
   ],
   "source": [
    "#Read all multipoles and append to one dataframe\n",
    "import glob \n",
    "# 1. Declare directory where csv files are stored\n",
    "directory = \"*.dat\"\n",
    "\n",
    "# 2. Create empty dataframe\n",
    "df = pd.DataFrame()\n",
    "#df['W(MeV)'] = E0p['W(MeV)']\n",
    "  \n",
    "# 3. Iterate through each csv file in the directory, read it into a\n",
    "# temporary dataframe and then append this to dataframe to the main\n",
    "# dataframe\n",
    "\n",
    "for file in sorted(glob.glob(directory)):\n",
    "    temp_df = pd.read_csv(file, sep=r'\\s+')\n",
    "    temp_df['MP'] = str(file)[:3]  #add multipole name into column\n",
    "    temp_df['L'] = str(file)[1]  #add value of L, for sorting later\n",
    "    df = df.append(temp_df)\n",
    "    \n",
    "df.head(200)    \n"
   ]
  },
  {
   "cell_type": "code",
   "execution_count": 171,
   "metadata": {},
   "outputs": [],
   "source": [
    "# Izdvajam samo kolone koje trebaju i pravim tri dataframe prema vrijednstima I=0,+,-\n",
    "## sortiram po energiji, zatim po L i onda po redu E,M,S\n",
    "Iso_0 = df.sort_values(['W(MeV)','L','MP'])[['W(MeV)','Re(0)','Im(0)','MP']]\n",
    "Iso_p = df.sort_values(['W(MeV)','L','MP'])[['W(MeV)','Re(+)','Im(+)','MP']]\n",
    "Iso_m = df.sort_values(['W(MeV)','L','MP'])[['W(MeV)','Re(-)','Im(-)','MP']]"
   ]
  },
  {
   "cell_type": "code",
   "execution_count": 172,
   "metadata": {},
   "outputs": [],
   "source": [
    "# prebacujem E0+ i E0- u isti red. Tako i za ostale multopole, kako bih dobio u istom redu isti L i isti Multipol\n",
    "Iso0 = pd.DataFrame([y.values.ravel() for x , y in Iso_0.groupby(np.arange(len(Iso_0))//2)])\n",
    "Isop = pd.DataFrame([y.values.ravel() for x , y in Iso_p.groupby(np.arange(len(Iso_p))//2)])\n",
    "Isom = pd.DataFrame([y.values.ravel() for x , y in Iso_m.groupby(np.arange(len(Iso_m))//2)])"
   ]
  },
  {
   "cell_type": "code",
   "execution_count": 173,
   "metadata": {},
   "outputs": [],
   "source": [
    "# Popravljanje imena kolona - prethodni korak je napravio duple nazive\n",
    "Iso0.columns = ['W(MeV)','Re(0)+','Im(0)+','MP','W(MeV)_','Re(0)-','Im(0)-','MP']\n",
    "Isop.columns = ['W(MeV)','Re(+)+','Im(+)+','MP','W(MeV)_','Re(+)-','Im(+)-','MP']\n",
    "Isom.columns = ['W(MeV)','Re(-)+','Im(-)+','MP','W(MeV)_','Re(-)-','Im(-)-','MP']"
   ]
  },
  {
   "cell_type": "code",
   "execution_count": 174,
   "metadata": {},
   "outputs": [],
   "source": [
    "# Izdvajanje samo potrebnih kolona za KH format\n",
    "Iso0_KH = Iso0[['W(MeV)','Re(0)+','Im(0)+','Re(0)-','Im(0)-']]\n",
    "Isop_KH = Isop[['W(MeV)','Re(+)+','Im(+)+','Re(+)-','Im(+)-']]\n",
    "Isom_KH = Isom[['W(MeV)','Re(-)+','Im(-)+','Re(-)-','Im(-)-']]"
   ]
  },
  {
   "cell_type": "code",
   "execution_count": 175,
   "metadata": {},
   "outputs": [
    {
     "data": {
      "text/plain": [
       "(1800, 5)"
      ]
     },
     "execution_count": 175,
     "metadata": {},
     "output_type": "execute_result"
    }
   ],
   "source": [
    "Iso0_KH.head(10)\n",
    "Isom_KH.shape"
   ]
  },
  {
   "cell_type": "code",
   "execution_count": 176,
   "metadata": {},
   "outputs": [
    {
     "name": "stderr",
     "output_type": "stream",
     "text": [
      "/home/rifat/anaconda3/lib/python3.8/site-packages/pandas/core/indexing.py:1765: SettingWithCopyWarning: \n",
      "A value is trying to be set on a copy of a slice from a DataFrame.\n",
      "Try using .loc[row_indexer,col_indexer] = value instead\n",
      "\n",
      "See the caveats in the documentation: https://pandas.pydata.org/pandas-docs/stable/user_guide/indexing.html#returning-a-view-versus-a-copy\n",
      "  isetter(loc, value)\n"
     ]
    }
   ],
   "source": [
    "# Vrijendost energije da pise samo na prvom mjestu, u prvom redu\n",
    "Iso0_KH.loc[Iso0_KH['W(MeV)'].duplicated(), 'W(MeV)'] = '      ' \n",
    "Isop_KH.loc[Isop_KH['W(MeV)'].duplicated(), 'W(MeV)'] = '      ' \n",
    "Isom_KH.loc[Isom_KH['W(MeV)'].duplicated(), 'W(MeV)'] = '      '"
   ]
  },
  {
   "cell_type": "code",
   "execution_count": 188,
   "metadata": {},
   "outputs": [
    {
     "name": "stdout",
     "output_type": "stream",
     "text": [
      "   W(MeV)  Re(-)+  Im(-)+  Re(-)-  Im(-)-\n",
      "0    1080   2.003   0.056   0.000     0.0\n",
      "1           0.000   0.000   0.000     0.0\n",
      "2           2.497   0.013   0.000     0.0\n",
      "3           0.171   0.000   0.000     0.0\n",
      "4          -0.933  -0.001  -0.992     0.0\n",
      "   W(MeV)  Re(+)+  Im(+)+  Re(+)-  Im(+)-\n",
      "0    1080   3.588   0.039   0.000   0.000\n",
      "1           0.000   0.000   0.000   0.000\n",
      "2          -1.078   0.052   0.000   0.000\n",
      "3          -0.140   0.000   0.000   0.000\n",
      "4           1.358   0.002  -1.305   0.001\n",
      "   W(MeV)  Re(0)+  Im(0)+  Re(0)-  Im(0)-\n",
      "0    1080   0.776   0.015   0.000     0.0\n",
      "1           0.000   0.000   0.000     0.0\n",
      "2          -1.740  -0.035   0.000     0.0\n",
      "3           0.006   0.000   0.000     0.0\n",
      "4           0.088   0.000  -0.355     0.0\n"
     ]
    }
   ],
   "source": [
    "# Provjera formata:\n",
    "print(Isom_KH.head())\n",
    "print(Isop_KH.head())\n",
    "print(Iso0_KH.head())"
   ]
  },
  {
   "cell_type": "code",
   "execution_count": 178,
   "metadata": {},
   "outputs": [],
   "source": [
    "# Snimanje konacnog rezultata u datoteku:\n",
    "Iso0_KH.to_csv('KH_format/Iso=0.dat', sep='\\t', index=False, float_format='%9.3f') \n",
    "Isop_KH.to_csv('KH_format/Iso=+.dat', sep='\\t', index=False, float_format='%9.3f') \n",
    "Isom_KH.to_csv('KH_format/Iso=-.dat', sep='\\t', index=False, float_format='%9.3f') "
   ]
  },
  {
   "cell_type": "code",
   "execution_count": 179,
   "metadata": {},
   "outputs": [
    {
     "name": "stdout",
     "output_type": "stream",
     "text": [
      "100\n"
     ]
    }
   ],
   "source": [
    "nrofen = Iso0.nunique()[0] #Broj energija\n",
    "print(nrofen)"
   ]
  },
  {
   "cell_type": "markdown",
   "metadata": {},
   "source": [
    "### Provjera jesam li dobro downloadovao sam MAID stranice\n",
    "Upoređujem vrijednosti koje sam skinuo za I=+,-,0 i I=p(1/2), n(1/2), 3/2.\n",
    "Ako jesam, jednakosti iz jednacina bi trebale vrijediti!"
   ]
  },
  {
   "cell_type": "markdown",
   "metadata": {},
   "source": [
    "$$ A^0 + A^+ = A_p^{1/2}+ 2/3 A^{3/2} $$\n",
    "$$ \\sqrt(2)(A^- + A^0) = A_p^{1/2}- 1/3 A^{3/2}$$"
   ]
  },
  {
   "cell_type": "code",
   "execution_count": 180,
   "metadata": {},
   "outputs": [],
   "source": [
    "E0p_I = pd.read_csv('E0+.dat', sep=r'\\s+') #I = +,-,0"
   ]
  },
  {
   "cell_type": "code",
   "execution_count": 181,
   "metadata": {},
   "outputs": [
    {
     "name": "stdout",
     "output_type": "stream",
     "text": [
      "/home/rifat/Dropbox/ElectroP/podaci\n"
     ]
    }
   ],
   "source": [
    "cd .."
   ]
  },
  {
   "cell_type": "code",
   "execution_count": 182,
   "metadata": {},
   "outputs": [],
   "source": [
    "E0p_312= pd.read_csv('Q2=1/E0+.dat', sep=r'\\s+')  # I= p(1/2),n(1/2), 3/2"
   ]
  },
  {
   "cell_type": "code",
   "execution_count": 183,
   "metadata": {},
   "outputs": [
    {
     "name": "stdout",
     "output_type": "stream",
     "text": [
      "Index(['W(MeV)', 'Re(p1/2)', 'Im(p1/2)', 'Re(n1/2)', 'Im(n1/2)', 'Re(3/2)',\n",
      "       'Im(3/2)', 'lab(MeV)', 'cm(MeV)'],\n",
      "      dtype='object')\n",
      "Index(['W(MeV)', 'Re(0)', 'Im(0)', 'Re(+)', 'Im(+)', 'Re(-)', 'Im(-)',\n",
      "       'wlab(MeV)', 'wcm(MeV)'],\n",
      "      dtype='object')\n"
     ]
    }
   ],
   "source": [
    "print(E0p_312.columns)\n",
    "print(E0p_I.columns)"
   ]
  },
  {
   "cell_type": "code",
   "execution_count": 184,
   "metadata": {},
   "outputs": [],
   "source": [
    "#Projvera jednakosti:\n",
    "L1 = E0p_I['Re(0)'] + E0p_I['Re(+)'] \n",
    "D1 = E0p_312['Re(p1/2)']+ 2*E0p_312['Re(3/2)']/3\n",
    "\n",
    "L2 = np.sqrt(2)* (E0p_I['Re(-)'] + E0p_I['Re(0)'])\n",
    "D2 = np.sqrt(2)*(E0p_312['Re(p1/2)']- E0p_312['Re(3/2)']/3)"
   ]
  },
  {
   "cell_type": "code",
   "execution_count": 185,
   "metadata": {},
   "outputs": [
    {
     "data": {
      "text/html": [
       "<div>\n",
       "<style scoped>\n",
       "    .dataframe tbody tr th:only-of-type {\n",
       "        vertical-align: middle;\n",
       "    }\n",
       "\n",
       "    .dataframe tbody tr th {\n",
       "        vertical-align: top;\n",
       "    }\n",
       "\n",
       "    .dataframe thead th {\n",
       "        text-align: right;\n",
       "    }\n",
       "</style>\n",
       "<table border=\"1\" class=\"dataframe\">\n",
       "  <thead>\n",
       "    <tr style=\"text-align: right;\">\n",
       "      <th></th>\n",
       "      <th>0</th>\n",
       "      <th>1</th>\n",
       "      <th>2</th>\n",
       "      <th>3</th>\n",
       "      <th>4</th>\n",
       "      <th>5</th>\n",
       "      <th>6</th>\n",
       "      <th>7</th>\n",
       "      <th>8</th>\n",
       "      <th>9</th>\n",
       "      <th>...</th>\n",
       "      <th>90</th>\n",
       "      <th>91</th>\n",
       "      <th>92</th>\n",
       "      <th>93</th>\n",
       "      <th>94</th>\n",
       "      <th>95</th>\n",
       "      <th>96</th>\n",
       "      <th>97</th>\n",
       "      <th>98</th>\n",
       "      <th>99</th>\n",
       "    </tr>\n",
       "  </thead>\n",
       "  <tbody>\n",
       "    <tr>\n",
       "      <th>Eq1_left</th>\n",
       "      <td>4.363667</td>\n",
       "      <td>4.286333</td>\n",
       "      <td>4.210667</td>\n",
       "      <td>4.138333</td>\n",
       "      <td>4.071000</td>\n",
       "      <td>4.005333</td>\n",
       "      <td>3.941667</td>\n",
       "      <td>3.880000</td>\n",
       "      <td>3.822000</td>\n",
       "      <td>3.765333</td>\n",
       "      <td>...</td>\n",
       "      <td>1.061000</td>\n",
       "      <td>0.674000</td>\n",
       "      <td>0.343667</td>\n",
       "      <td>0.079000</td>\n",
       "      <td>-0.121000</td>\n",
       "      <td>-0.261667</td>\n",
       "      <td>-0.350000</td>\n",
       "      <td>-0.397667</td>\n",
       "      <td>-0.412000</td>\n",
       "      <td>-0.403333</td>\n",
       "    </tr>\n",
       "    <tr>\n",
       "      <th>Eq1_right</th>\n",
       "      <td>4.364000</td>\n",
       "      <td>4.286000</td>\n",
       "      <td>4.211000</td>\n",
       "      <td>4.138000</td>\n",
       "      <td>4.071000</td>\n",
       "      <td>4.006000</td>\n",
       "      <td>3.941000</td>\n",
       "      <td>3.880000</td>\n",
       "      <td>3.822000</td>\n",
       "      <td>3.766000</td>\n",
       "      <td>...</td>\n",
       "      <td>1.061000</td>\n",
       "      <td>0.674000</td>\n",
       "      <td>0.344000</td>\n",
       "      <td>0.079000</td>\n",
       "      <td>-0.121000</td>\n",
       "      <td>-0.261000</td>\n",
       "      <td>-0.350000</td>\n",
       "      <td>-0.398000</td>\n",
       "      <td>-0.412000</td>\n",
       "      <td>-0.404000</td>\n",
       "    </tr>\n",
       "    <tr>\n",
       "      <th>Eq2_left</th>\n",
       "      <td>3.929628</td>\n",
       "      <td>3.958855</td>\n",
       "      <td>3.984782</td>\n",
       "      <td>4.008353</td>\n",
       "      <td>4.034751</td>\n",
       "      <td>4.057850</td>\n",
       "      <td>4.079535</td>\n",
       "      <td>4.099805</td>\n",
       "      <td>4.119604</td>\n",
       "      <td>4.138460</td>\n",
       "      <td>...</td>\n",
       "      <td>2.429619</td>\n",
       "      <td>1.865348</td>\n",
       "      <td>1.379801</td>\n",
       "      <td>0.985707</td>\n",
       "      <td>0.681651</td>\n",
       "      <td>0.462919</td>\n",
       "      <td>0.319612</td>\n",
       "      <td>0.236645</td>\n",
       "      <td>0.206475</td>\n",
       "      <td>0.213075</td>\n",
       "    </tr>\n",
       "    <tr>\n",
       "      <th>Eq2_right</th>\n",
       "      <td>3.930099</td>\n",
       "      <td>3.958384</td>\n",
       "      <td>3.985254</td>\n",
       "      <td>4.009295</td>\n",
       "      <td>4.034751</td>\n",
       "      <td>4.058793</td>\n",
       "      <td>4.080006</td>\n",
       "      <td>4.099805</td>\n",
       "      <td>4.119604</td>\n",
       "      <td>4.137989</td>\n",
       "      <td>...</td>\n",
       "      <td>2.429619</td>\n",
       "      <td>1.865348</td>\n",
       "      <td>1.380272</td>\n",
       "      <td>0.985707</td>\n",
       "      <td>0.681651</td>\n",
       "      <td>0.463862</td>\n",
       "      <td>0.319612</td>\n",
       "      <td>0.237588</td>\n",
       "      <td>0.206475</td>\n",
       "      <td>0.212132</td>\n",
       "    </tr>\n",
       "  </tbody>\n",
       "</table>\n",
       "<p>4 rows × 100 columns</p>\n",
       "</div>"
      ],
      "text/plain": [
       "                 0         1         2         3         4         5   \\\n",
       "Eq1_left   4.363667  4.286333  4.210667  4.138333  4.071000  4.005333   \n",
       "Eq1_right  4.364000  4.286000  4.211000  4.138000  4.071000  4.006000   \n",
       "Eq2_left   3.929628  3.958855  3.984782  4.008353  4.034751  4.057850   \n",
       "Eq2_right  3.930099  3.958384  3.985254  4.009295  4.034751  4.058793   \n",
       "\n",
       "                 6         7         8         9   ...        90        91  \\\n",
       "Eq1_left   3.941667  3.880000  3.822000  3.765333  ...  1.061000  0.674000   \n",
       "Eq1_right  3.941000  3.880000  3.822000  3.766000  ...  1.061000  0.674000   \n",
       "Eq2_left   4.079535  4.099805  4.119604  4.138460  ...  2.429619  1.865348   \n",
       "Eq2_right  4.080006  4.099805  4.119604  4.137989  ...  2.429619  1.865348   \n",
       "\n",
       "                 92        93        94        95        96        97  \\\n",
       "Eq1_left   0.343667  0.079000 -0.121000 -0.261667 -0.350000 -0.397667   \n",
       "Eq1_right  0.344000  0.079000 -0.121000 -0.261000 -0.350000 -0.398000   \n",
       "Eq2_left   1.379801  0.985707  0.681651  0.462919  0.319612  0.236645   \n",
       "Eq2_right  1.380272  0.985707  0.681651  0.463862  0.319612  0.237588   \n",
       "\n",
       "                 98        99  \n",
       "Eq1_left  -0.412000 -0.403333  \n",
       "Eq1_right -0.412000 -0.404000  \n",
       "Eq2_left   0.206475  0.213075  \n",
       "Eq2_right  0.206475  0.212132  \n",
       "\n",
       "[4 rows x 100 columns]"
      ]
     },
     "execution_count": 185,
     "metadata": {},
     "output_type": "execute_result"
    }
   ],
   "source": [
    "#ispis provjere jednakosti gornjih jednacina\n",
    "pd.DataFrame([D1, L1, D2, L2], index=['Eq1_left','Eq1_right','Eq2_left','Eq2_right'])"
   ]
  },
  {
   "cell_type": "markdown",
   "metadata": {},
   "source": [
    "Prethodni dataframe pokazuje da su desne i lijeve strane odgovarajućih jednačina jednake!!!"
   ]
  },
  {
   "cell_type": "code",
   "execution_count": null,
   "metadata": {},
   "outputs": [],
   "source": []
  }
 ],
 "metadata": {
  "kernelspec": {
   "display_name": "Python 3",
   "language": "python",
   "name": "python3"
  },
  "language_info": {
   "codemirror_mode": {
    "name": "ipython",
    "version": 3
   },
   "file_extension": ".py",
   "mimetype": "text/x-python",
   "name": "python",
   "nbconvert_exporter": "python",
   "pygments_lexer": "ipython3",
   "version": "3.8.5"
  }
 },
 "nbformat": 4,
 "nbformat_minor": 4
}
